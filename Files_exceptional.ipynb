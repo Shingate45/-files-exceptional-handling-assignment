{
 "cells": [
  {
   "cell_type": "markdown",
   "id": "90855e57-ff84-4182-b0db-7bb1814090b1",
   "metadata": {},
   "source": [
    "# What is the difference between interpreted and compiled languages?\n",
    "Interpreted: Executes code line by line (e.g., Python).\n",
    "\n",
    "Compiled: Translates code into machine code before execution (e.g., C++).\n",
    "\n",
    "Interpreted languages are slower but easier to debug."
   ]
  },
  {
   "cell_type": "markdown",
   "id": "69d8e6d9-a00d-46de-bd9c-83704c012b41",
   "metadata": {},
   "source": [
    "# What is exception handling in Python?\n",
    "It's a mechanism to catch and handle runtime errors using try, except, finally, and else."
   ]
  },
  {
   "cell_type": "markdown",
   "id": "df50d26d-f26b-47c4-a25f-d5ddb0c29662",
   "metadata": {},
   "source": [
    "# What is the purpose of the finally block in exception handling?\n",
    "Executes code regardless of whether an exception occurred or not, often used for cleanup actions."
   ]
  },
  {
   "cell_type": "markdown",
   "id": "8075f3f3-c6ea-4c24-99b4-0826d159d815",
   "metadata": {},
   "source": [
    "# What is logging in Python?\n",
    "It's a module that records events, errors, or informational messages during program execution.\n"
   ]
  },
  {
   "cell_type": "markdown",
   "id": "9f4cbd83-3e11-4474-b31e-6e6eca6f0d6d",
   "metadata": {},
   "source": [
    "# What is the significance of the __del__ method in Python?\n",
    "It's a destructor method called when an object is deleted to clean up resources."
   ]
  },
  {
   "cell_type": "markdown",
   "id": "a9ba14e6-0ff9-4c6d-8f6b-6f0dd32145a5",
   "metadata": {},
   "source": [
    "# What is the difference between import and from ... import in Python?\n",
    "import module: Imports the whole module.\n",
    "\n",
    "from module import name: Imports only specific items from a module."
   ]
  },
  {
   "cell_type": "markdown",
   "id": "e26084c3-04de-42c9-a6ef-4df7502ed8dd",
   "metadata": {},
   "source": [
    "# How can you handle multiple exceptions in Python?\n",
    "try:\n",
    "    # code\n",
    "except (ValueError, TypeError) as e:\n",
    "    print(e)\n"
   ]
  },
  {
   "cell_type": "markdown",
   "id": "3d7fc3c1-f9f3-466b-a70d-a0cc589f5ca9",
   "metadata": {},
   "source": [
    "# What is the purpose of the with statement when handling files in Python?\n",
    "Ensures the file is automatically closed after the block is executed, even if exceptions occur."
   ]
  },
  {
   "cell_type": "markdown",
   "id": "f7e42bac-6004-4878-b05a-9e566e0aed5c",
   "metadata": {},
   "source": [
    "# What is the difference between multithreading and multiprocessing?\n",
    "Multithreading: Runs multiple threads in the same process; good for I/O-bound tasks.\n",
    "\n",
    "Multiprocessing: Runs processes in parallel; better for CPU-bound tasks."
   ]
  },
  {
   "cell_type": "markdown",
   "id": "3f104558-ddb0-44ad-8fd9-ad71a685ee99",
   "metadata": {},
   "source": [
    "#  What are the advantages of using logging in a program?\n",
    "Helps track events, debug issues, and monitor software behavior during execution."
   ]
  },
  {
   "cell_type": "markdown",
   "id": "490f2047-5f25-4d51-9cac-6c33f3111850",
   "metadata": {},
   "source": [
    "#  What is memory management in Python?\n",
    "Python uses automatic memory management through reference counting and a garbage collector."
   ]
  },
  {
   "cell_type": "markdown",
   "id": "f6773434-d7fd-4c93-8f69-736bdb3e8893",
   "metadata": {},
   "source": [
    "# What are the basic steps involved in exception handling in Python?\n",
    "Use try to write code.\n",
    "\n",
    "Use except to catch errors.\n",
    "\n",
    "Use else to run code if no error.\n",
    "\n",
    "Use finally for cleanup code. "
   ]
  },
  {
   "cell_type": "markdown",
   "id": "fff54c8a-f7da-441c-a057-de1e84b2de0b",
   "metadata": {},
   "source": [
    "# Why is memory management important in Python?\n",
    "Prevents memory leaks.\n",
    "\n",
    "Optimizes performance.\n",
    "\n",
    "Ensures efficient resource use."
   ]
  },
  {
   "cell_type": "markdown",
   "id": "605d4c93-ee83-4629-a045-c1a6cbae2077",
   "metadata": {},
   "source": [
    "#  What is the role of try and except in exception handling?\n",
    "try: Code that might raise an error.\n",
    "\n",
    "except: Code to handle the error gracefully."
   ]
  },
  {
   "cell_type": "markdown",
   "id": "38529e0c-860e-4232-9034-c5b9e4479910",
   "metadata": {},
   "source": [
    "# How does Python's garbage collection system work?\n",
    "Python uses reference counting and a cyclic garbage collector to automatically free memory used by objects no longer in use."
   ]
  },
  {
   "cell_type": "markdown",
   "id": "42353a0d-4dc6-4701-a865-f8203d34a933",
   "metadata": {},
   "source": [
    "# What is the purpose of the else block in exception handling?\n",
    "Executes only if no exceptions were raised in the try block."
   ]
  },
  {
   "cell_type": "markdown",
   "id": "0d248752-da4f-4d6a-ad32-29e38a8934f3",
   "metadata": {},
   "source": [
    "# What are the common logging levels in Python?\n",
    "DEBUG, INFO, WARNING, ERROR, CRITICAL "
   ]
  },
  {
   "cell_type": "markdown",
   "id": "eae6de64-7962-4d37-89f4-5e3e8b5a1787",
   "metadata": {},
   "source": [
    "# What is the difference between os.fork() and multiprocessing in Python?\n",
    "os.fork(): Unix-only system call to create a child process.\n",
    "\n",
    "multiprocessing: Cross-platform module to create and manage processes. "
   ]
  },
  {
   "cell_type": "markdown",
   "id": "bb690e93-b507-42b9-a850-ade9929765d1",
   "metadata": {},
   "source": [
    "# What is the importance of closing a file in Python?\n",
    "Frees system resources and ensures data is properly written and saved."
   ]
  },
  {
   "cell_type": "markdown",
   "id": "f20b7faf-191b-4cdb-880d-ba9b08af2776",
   "metadata": {},
   "source": [
    "#  What is the difference between file.read() and file.readline() in Python?\n",
    "read(): Reads the entire file.\n",
    "\n",
    "readline(): Reads one line at a time."
   ]
  },
  {
   "cell_type": "markdown",
   "id": "0887cb8d-97f0-4319-a05e-241dadbfc459",
   "metadata": {},
   "source": [
    "# What is the logging module in Python used for?\n",
    "Used to record messages related to program execution, errors, or custom status updates."
   ]
  },
  {
   "cell_type": "code",
   "execution_count": 4,
   "id": "350d5993-4277-40c0-9a54-bdcbf9d4e977",
   "metadata": {},
   "outputs": [],
   "source": [
    "#How can you open a file for writing in Python and write a string to it?\n",
    "\n",
    "with open(\"example.txt\", \"w\") as file:\n",
    "    file.write(\"Hello, world!\")"
   ]
  },
  {
   "cell_type": "code",
   "execution_count": 2,
   "id": "cd5698e7-397c-4a1b-9dea-2473e14b6dd5",
   "metadata": {},
   "outputs": [
    {
     "name": "stdout",
     "output_type": "stream",
     "text": [
      "Hello, world!\n"
     ]
    }
   ],
   "source": [
    "#. Write a Python program to read the contents of a file and print each line.\n",
    "\n",
    "with open(\"example.txt\", \"r\") as file:\n",
    "    for line in file:\n",
    "        print(line.strip())\n"
   ]
  },
  {
   "cell_type": "code",
   "execution_count": 5,
   "id": "14cc3c3a-128b-4ddd-94e0-547a840e1b88",
   "metadata": {},
   "outputs": [
    {
     "name": "stdout",
     "output_type": "stream",
     "text": [
      "File not found.\n"
     ]
    }
   ],
   "source": [
    "#How would you handle a case where the file doesn't exist while trying to open it for reading?\n",
    "try:\n",
    "    with open(\"missing.txt\", \"r\") as file:\n",
    "        data = file.read()\n",
    "except FileNotFoundError:\n",
    "    print(\"File not found.\")\n"
   ]
  },
  {
   "cell_type": "code",
   "execution_count": null,
   "id": "e74a3b00-b39d-4f92-9e9a-6fdea5a3d6a4",
   "metadata": {},
   "outputs": [],
   "source": [
    "#Write a Python script that reads from one file and writes its content to another file.\n",
    "with open(\"source.txt\", \"r\") as src, open(\"destination.txt\", \"w\") as dest:\n",
    "    dest.write(src.read())\n"
   ]
  },
  {
   "cell_type": "code",
   "execution_count": 9,
   "id": "0bd0677d-eef4-4dfc-9c93-a2ccfbcf1e3b",
   "metadata": {},
   "outputs": [
    {
     "name": "stdout",
     "output_type": "stream",
     "text": [
      "Cannot divide by zero.\n"
     ]
    }
   ],
   "source": [
    "# How would you catch and handle division by zero error in Python?\n",
    "try:\n",
    "    result = 10 / 0\n",
    "except ZeroDivisionError:\n",
    "    print(\"Cannot divide by zero.\")\n"
   ]
  },
  {
   "cell_type": "code",
   "execution_count": 11,
   "id": "58e62e53-e03a-4ded-8bc3-d445040888e7",
   "metadata": {},
   "outputs": [],
   "source": [
    "#Write a Python program that logs an error message to a log file when a division by zero exception occurs.\n",
    "import logging\n",
    "\n",
    "logging.basicConfig(filename=\"error.log\", level=logging.ERROR)\n",
    "\n",
    "try:\n",
    "    x = 10 / 0\n",
    "except ZeroDivisionError as e:\n",
    "    logging.error(\"Division by zero error: %s\", e)\n"
   ]
  },
  {
   "cell_type": "code",
   "execution_count": 12,
   "id": "2da7df1b-35e6-4a71-bb99-be896a44b9a6",
   "metadata": {},
   "outputs": [],
   "source": [
    "#How do you log information at different levels (INFO, ERROR, WARNING) in Python using the logging module?\n",
    "import logging\n",
    "\n",
    "logging.basicConfig(level=logging.DEBUG)\n",
    "\n",
    "logging.info(\"This is an info message.\")\n",
    "logging.warning(\"This is a warning message.\")\n",
    "logging.error(\"This is an error message.\")\n"
   ]
  },
  {
   "cell_type": "code",
   "execution_count": 13,
   "id": "c4e3cdde-2656-4134-8165-86230f8d49c3",
   "metadata": {},
   "outputs": [
    {
     "name": "stdout",
     "output_type": "stream",
     "text": [
      "Error opening file.\n"
     ]
    }
   ],
   "source": [
    "#Write a program to handle a file opening error using exception handling.\n",
    "try:\n",
    "    with open(\"somefile.txt\", \"r\") as f:\n",
    "        print(f.read())\n",
    "except IOError:\n",
    "    print(\"Error opening file.\")\n"
   ]
  },
  {
   "cell_type": "code",
   "execution_count": 14,
   "id": "06edc56d-d1fb-46cd-b7cc-9325eedebac6",
   "metadata": {},
   "outputs": [],
   "source": [
    "#How can you read a file line by line and store its content in a list in Python?\n",
    "with open(\"example.txt\", \"r\") as file:\n",
    "    lines = file.readlines()\n"
   ]
  },
  {
   "cell_type": "code",
   "execution_count": 15,
   "id": "fe139020-681a-4b23-a3ba-60cb014c3053",
   "metadata": {},
   "outputs": [],
   "source": [
    "#How can you append data to an existing file in Python?\n",
    "\n",
    "with open(\"example.txt\", \"a\") as file:\n",
    "    file.write(\"\\nNew line appended.\")"
   ]
  },
  {
   "cell_type": "code",
   "execution_count": 16,
   "id": "f0316f1e-7588-4d04-8a8f-d976196924dc",
   "metadata": {},
   "outputs": [
    {
     "name": "stdout",
     "output_type": "stream",
     "text": [
      "Key not found.\n"
     ]
    }
   ],
   "source": [
    "# Write a Python program that uses a try–except block to handle an error when attempting to access a dictionary key that doesn't exist.\n",
    "data = {\"name\": \"Alice\"}\n",
    "try:\n",
    "    print(data[\"age\"])\n",
    "except KeyError:\n",
    "    print(\"Key not found.\")\n"
   ]
  },
  {
   "cell_type": "code",
   "execution_count": 17,
   "id": "1828673c-1e2f-43a2-bd3b-b075cb28b4ab",
   "metadata": {},
   "outputs": [
    {
     "name": "stdout",
     "output_type": "stream",
     "text": [
      "Division by zero.\n"
     ]
    }
   ],
   "source": [
    "#Write a program that demonstrates using multiple except blocks to handle different types of exceptions.\n",
    "try:\n",
    "    result = 10 / 0\n",
    "    value = int(\"abc\")\n",
    "except ZeroDivisionError:\n",
    "    print(\"Division by zero.\")\n",
    "except ValueError:\n",
    "    print(\"Invalid conversion.\")"
   ]
  },
  {
   "cell_type": "code",
   "execution_count": 18,
   "id": "2c4f3930-ff00-4964-a5c1-708a06ce8f11",
   "metadata": {},
   "outputs": [
    {
     "name": "stdout",
     "output_type": "stream",
     "text": [
      "Hello, world!\n",
      "New line appended.\n"
     ]
    }
   ],
   "source": [
    "# How would you check if a file exists before attempting to read it in Python?\n",
    "import os\n",
    "\n",
    "if os.path.exists(\"example.txt\"):\n",
    "    with open(\"example.txt\") as f:\n",
    "        print(f.read())\n",
    "else:\n",
    "    print(\"File does not exist.\")\n"
   ]
  },
  {
   "cell_type": "code",
   "execution_count": 19,
   "id": "d2df9168-609b-49f0-9da6-96abcc04638b",
   "metadata": {},
   "outputs": [],
   "source": [
    "# Write a program that uses the logging module to log both informational and error messages.\n",
    "import logging\n",
    "\n",
    "logging.basicConfig(filename=\"app.log\", level=logging.DEBUG)\n",
    "\n",
    "logging.info(\"Program started.\")\n",
    "try:\n",
    "    1 / 0\n",
    "except ZeroDivisionError:\n",
    "    logging.error(\"Attempted division by zero.\")\n"
   ]
  },
  {
   "cell_type": "code",
   "execution_count": 20,
   "id": "50b05a68-10cc-4e97-8890-765bbcc7306d",
   "metadata": {},
   "outputs": [
    {
     "name": "stdout",
     "output_type": "stream",
     "text": [
      "Hello, world!\n",
      "New line appended.\n"
     ]
    }
   ],
   "source": [
    "# Write a Python program that prints the content of a file and handles the case when the file is empty.\n",
    "with open(\"example.txt\", \"r\") as file:\n",
    "    content = file.read()\n",
    "    if content:\n",
    "        print(content)\n",
    "    else:\n",
    "        print(\"File is empty.\")\n"
   ]
  },
  {
   "cell_type": "code",
   "execution_count": null,
   "id": "c5581339-8f4e-45f8-bbd0-9702a214d292",
   "metadata": {},
   "outputs": [],
   "source": [
    "#Demonstrate how to use memory profiling to check the memory usage of a small program.\n",
    "from memory_profiler import profile\n",
    "\n",
    "@profile\n",
    "def my_func():\n",
    "    a = [i for i in range(10000)]\n",
    "    return sum(a)\n",
    "\n",
    "my_func()\n"
   ]
  },
  {
   "cell_type": "code",
   "execution_count": 22,
   "id": "8d14c0fd-a3b0-4946-bf6d-622c171b3822",
   "metadata": {},
   "outputs": [],
   "source": [
    "#Write a Python program to create and write a list of numbers to a file, one number per line.\n",
    "numbers = [1, 2, 3, 4, 5]\n",
    "\n",
    "with open(\"numbers.txt\", \"w\") as file:\n",
    "    for num in numbers:\n",
    "        file.write(f\"{num}\\n\")\n"
   ]
  },
  {
   "cell_type": "code",
   "execution_count": 23,
   "id": "fe65c938-68ba-4c2c-aa76-53e03c23115c",
   "metadata": {},
   "outputs": [],
   "source": [
    "#How would you implement a basic logging setup that logs to a file with rotation after 1MB?\n",
    "import logging\n",
    "from logging.handlers import RotatingFileHandler\n",
    "\n",
    "handler = RotatingFileHandler(\"app.log\", maxBytes=1024*1024, backupCount=3)\n",
    "logging.basicConfig(handlers=[handler], level=logging.INFO)\n",
    "\n",
    "logging.info(\"Rotating file log example.\")\n"
   ]
  },
  {
   "cell_type": "code",
   "execution_count": 24,
   "id": "436a622b-a6ec-4879-b7d3-0d9ea3af24be",
   "metadata": {},
   "outputs": [
    {
     "name": "stdout",
     "output_type": "stream",
     "text": [
      "Index out of range.\n"
     ]
    }
   ],
   "source": [
    "#  Write a program that handles both IndexError and KeyError using a try–except block.\n",
    "try:\n",
    "    lst = [1, 2, 3]\n",
    "    print(lst[5])\n",
    "    d = {\"a\": 1}\n",
    "    print(d[\"b\"])\n",
    "except IndexError:\n",
    "    print(\"Index out of range.\")\n",
    "except KeyError:\n",
    "    print(\"Key not found.\")"
   ]
  },
  {
   "cell_type": "code",
   "execution_count": null,
   "id": "b0dc85c4-395b-4a7d-a77e-4bc52ff8e18b",
   "metadata": {},
   "outputs": [],
   "source": [
    "# "
   ]
  }
 ],
 "metadata": {
  "kernelspec": {
   "display_name": "Python 3 (ipykernel)",
   "language": "python",
   "name": "python3"
  },
  "language_info": {
   "codemirror_mode": {
    "name": "ipython",
    "version": 3
   },
   "file_extension": ".py",
   "mimetype": "text/x-python",
   "name": "python",
   "nbconvert_exporter": "python",
   "pygments_lexer": "ipython3",
   "version": "3.12.4"
  }
 },
 "nbformat": 4,
 "nbformat_minor": 5
}
